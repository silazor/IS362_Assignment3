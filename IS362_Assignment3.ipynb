{
 "cells": [
  {
   "cell_type": "markdown",
   "metadata": {},
   "source": [
    "### Week 3 Assignment\n",
    "Here are my logged miles with miles totalled by day as well as miles totalled cumulatively from New York City to Key West.\n"
   ]
  },
  {
   "cell_type": "code",
   "execution_count": 5,
   "metadata": {},
   "outputs": [
    {
     "name": "stdout",
     "output_type": "stream",
     "text": [
      "Here are my cumulative miles by date: \n",
      "\n",
      "2019/9/1     55\n",
      "2019/9/2    120\n",
      "2019/9/3    170\n",
      "2019/9/4    243\n",
      "2019/9/5    331\n",
      "2019/9/6    374\n",
      "2019/9/7    439\n",
      "2019/9/8    499\n",
      "2019/9/9    578\n",
      "dtype: int64\n",
      "Here is my mileage by day: \n",
      "\n",
      "2019/9/1    55\n",
      "2019/9/2    65\n",
      "2019/9/3    50\n",
      "2019/9/4    73\n",
      "2019/9/5    88\n",
      "2019/9/6    43\n",
      "2019/9/7    65\n",
      "2019/9/8    60\n",
      "2019/9/9    79\n",
      "dtype: int64\n"
     ]
    }
   ],
   "source": [
    "import pandas as pd\n",
    "\n",
    "my_miles = {\n",
    "    '2019/9/1': 55, '2019/9/2': 65, '2019/9/3': 50, '2019/9/4': 73, \n",
    "    '2019/9/5': 88, '2019/9/6': 43, '2019/9/7': 65, '2019/9/8': 60, \n",
    "    '2019/9/9': 79}\n",
    "series = pd.Series(my_miles)\n",
    "cumulitive_series = series.cumsum()\n",
    "\n",
    "print('Here are my cumulative miles by date: \\n')\n",
    "print(cumulitive_series)\n",
    "print('Here is my mileage by day: \\n')\n",
    "print(series)"
   ]
  },
  {
   "cell_type": "code",
   "execution_count": null,
   "metadata": {},
   "outputs": [],
   "source": []
  },
  {
   "cell_type": "code",
   "execution_count": null,
   "metadata": {},
   "outputs": [],
   "source": []
  }
 ],
 "metadata": {
  "kernelspec": {
   "display_name": "Python 3",
   "language": "python",
   "name": "python3"
  },
  "language_info": {
   "codemirror_mode": {
    "name": "ipython",
    "version": 3
   },
   "file_extension": ".py",
   "mimetype": "text/x-python",
   "name": "python",
   "nbconvert_exporter": "python",
   "pygments_lexer": "ipython3",
   "version": "3.7.3"
  }
 },
 "nbformat": 4,
 "nbformat_minor": 2
}
